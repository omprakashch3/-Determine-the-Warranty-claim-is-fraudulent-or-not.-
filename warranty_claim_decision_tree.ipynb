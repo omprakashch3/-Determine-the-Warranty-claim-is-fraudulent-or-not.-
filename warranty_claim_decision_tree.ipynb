{
 "cells": [
  {
   "cell_type": "code",
   "execution_count": 1,
   "metadata": {},
   "outputs": [],
   "source": [
    "import pandas as pd\n",
    "from sklearn.tree import DecisionTreeClassifier # Import Decision Tree Classifier\n",
    "from sklearn.model_selection import train_test_split # Import train_test_split function\n",
    "from sklearn import metrics #Import scikit-learn metrics module for accuracy calculation"
   ]
  },
  {
   "cell_type": "code",
   "execution_count": 2,
   "metadata": {},
   "outputs": [
    {
     "data": {
      "text/html": [
       "<div>\n",
       "<style scoped>\n",
       "    .dataframe tbody tr th:only-of-type {\n",
       "        vertical-align: middle;\n",
       "    }\n",
       "\n",
       "    .dataframe tbody tr th {\n",
       "        vertical-align: top;\n",
       "    }\n",
       "\n",
       "    .dataframe thead th {\n",
       "        text-align: right;\n",
       "    }\n",
       "</style>\n",
       "<table border=\"1\" class=\"dataframe\">\n",
       "  <thead>\n",
       "    <tr style=\"text-align: right;\">\n",
       "      <th></th>\n",
       "      <th>Unnamed: 0</th>\n",
       "      <th>Region</th>\n",
       "      <th>State</th>\n",
       "      <th>Area</th>\n",
       "      <th>City</th>\n",
       "      <th>Consumer_profile</th>\n",
       "      <th>Product_category</th>\n",
       "      <th>Product_type</th>\n",
       "      <th>AC_1001_Issue</th>\n",
       "      <th>AC_1002_Issue</th>\n",
       "      <th>...</th>\n",
       "      <th>TV_2001_Issue</th>\n",
       "      <th>TV_2002_Issue</th>\n",
       "      <th>TV_2003_Issue</th>\n",
       "      <th>Claim_Value</th>\n",
       "      <th>Service_Centre</th>\n",
       "      <th>Product_Age</th>\n",
       "      <th>Purchased_from</th>\n",
       "      <th>Call_details</th>\n",
       "      <th>Purpose</th>\n",
       "      <th>Fraud</th>\n",
       "    </tr>\n",
       "  </thead>\n",
       "  <tbody>\n",
       "    <tr>\n",
       "      <th>0</th>\n",
       "      <td>1</td>\n",
       "      <td>South</td>\n",
       "      <td>Karnataka</td>\n",
       "      <td>Urban</td>\n",
       "      <td>Bangalore</td>\n",
       "      <td>Business</td>\n",
       "      <td>Entertainment</td>\n",
       "      <td>TV</td>\n",
       "      <td>0</td>\n",
       "      <td>0</td>\n",
       "      <td>...</td>\n",
       "      <td>1</td>\n",
       "      <td>2</td>\n",
       "      <td>0</td>\n",
       "      <td>15000.0</td>\n",
       "      <td>10</td>\n",
       "      <td>60</td>\n",
       "      <td>Manufacturer</td>\n",
       "      <td>0.5</td>\n",
       "      <td>Complaint</td>\n",
       "      <td>1</td>\n",
       "    </tr>\n",
       "    <tr>\n",
       "      <th>1</th>\n",
       "      <td>2</td>\n",
       "      <td>South</td>\n",
       "      <td>Karnataka</td>\n",
       "      <td>Rural</td>\n",
       "      <td>Bangalore</td>\n",
       "      <td>Business</td>\n",
       "      <td>Household</td>\n",
       "      <td>AC</td>\n",
       "      <td>1</td>\n",
       "      <td>1</td>\n",
       "      <td>...</td>\n",
       "      <td>0</td>\n",
       "      <td>0</td>\n",
       "      <td>0</td>\n",
       "      <td>20000.0</td>\n",
       "      <td>12</td>\n",
       "      <td>10</td>\n",
       "      <td>Dealer</td>\n",
       "      <td>1.0</td>\n",
       "      <td>Complaint</td>\n",
       "      <td>0</td>\n",
       "    </tr>\n",
       "    <tr>\n",
       "      <th>2</th>\n",
       "      <td>3</td>\n",
       "      <td>North</td>\n",
       "      <td>Haryana</td>\n",
       "      <td>Urban</td>\n",
       "      <td>Chandigarh</td>\n",
       "      <td>Personal</td>\n",
       "      <td>Household</td>\n",
       "      <td>AC</td>\n",
       "      <td>0</td>\n",
       "      <td>1</td>\n",
       "      <td>...</td>\n",
       "      <td>0</td>\n",
       "      <td>0</td>\n",
       "      <td>0</td>\n",
       "      <td>18000.0</td>\n",
       "      <td>14</td>\n",
       "      <td>10</td>\n",
       "      <td>Dealer</td>\n",
       "      <td>1.4</td>\n",
       "      <td>Claim</td>\n",
       "      <td>0</td>\n",
       "    </tr>\n",
       "    <tr>\n",
       "      <th>3</th>\n",
       "      <td>4</td>\n",
       "      <td>South</td>\n",
       "      <td>Tamilnadu</td>\n",
       "      <td>Urban</td>\n",
       "      <td>Chennai</td>\n",
       "      <td>Business</td>\n",
       "      <td>Entertainment</td>\n",
       "      <td>TV</td>\n",
       "      <td>0</td>\n",
       "      <td>0</td>\n",
       "      <td>...</td>\n",
       "      <td>1</td>\n",
       "      <td>1</td>\n",
       "      <td>0</td>\n",
       "      <td>12000.0</td>\n",
       "      <td>16</td>\n",
       "      <td>20</td>\n",
       "      <td>Manufacturer</td>\n",
       "      <td>2.0</td>\n",
       "      <td>Complaint</td>\n",
       "      <td>0</td>\n",
       "    </tr>\n",
       "    <tr>\n",
       "      <th>4</th>\n",
       "      <td>5</td>\n",
       "      <td>North East</td>\n",
       "      <td>Jharkhand</td>\n",
       "      <td>Rural</td>\n",
       "      <td>Ranchi</td>\n",
       "      <td>Personal</td>\n",
       "      <td>Entertainment</td>\n",
       "      <td>TV</td>\n",
       "      <td>0</td>\n",
       "      <td>0</td>\n",
       "      <td>...</td>\n",
       "      <td>0</td>\n",
       "      <td>1</td>\n",
       "      <td>2</td>\n",
       "      <td>25000.0</td>\n",
       "      <td>15</td>\n",
       "      <td>6</td>\n",
       "      <td>Dealer</td>\n",
       "      <td>1.3</td>\n",
       "      <td>Claim</td>\n",
       "      <td>0</td>\n",
       "    </tr>\n",
       "  </tbody>\n",
       "</table>\n",
       "<p>5 rows × 21 columns</p>\n",
       "</div>"
      ],
      "text/plain": [
       "   Unnamed: 0      Region      State   Area        City Consumer_profile  \\\n",
       "0           1       South  Karnataka  Urban   Bangalore         Business   \n",
       "1           2       South  Karnataka  Rural   Bangalore         Business   \n",
       "2           3       North    Haryana  Urban  Chandigarh         Personal   \n",
       "3           4       South  Tamilnadu  Urban     Chennai         Business   \n",
       "4           5  North East  Jharkhand  Rural      Ranchi         Personal   \n",
       "\n",
       "  Product_category Product_type  AC_1001_Issue  AC_1002_Issue  ...  \\\n",
       "0    Entertainment           TV              0              0  ...   \n",
       "1        Household           AC              1              1  ...   \n",
       "2        Household           AC              0              1  ...   \n",
       "3    Entertainment           TV              0              0  ...   \n",
       "4    Entertainment           TV              0              0  ...   \n",
       "\n",
       "   TV_2001_Issue  TV_2002_Issue  TV_2003_Issue  Claim_Value  Service_Centre  \\\n",
       "0              1              2              0      15000.0              10   \n",
       "1              0              0              0      20000.0              12   \n",
       "2              0              0              0      18000.0              14   \n",
       "3              1              1              0      12000.0              16   \n",
       "4              0              1              2      25000.0              15   \n",
       "\n",
       "   Product_Age  Purchased_from Call_details    Purpose Fraud  \n",
       "0           60    Manufacturer          0.5  Complaint     1  \n",
       "1           10          Dealer          1.0  Complaint     0  \n",
       "2           10          Dealer          1.4      Claim     0  \n",
       "3           20    Manufacturer          2.0  Complaint     0  \n",
       "4            6          Dealer          1.3      Claim     0  \n",
       "\n",
       "[5 rows x 21 columns]"
      ]
     },
     "execution_count": 2,
     "metadata": {},
     "output_type": "execute_result"
    }
   ],
   "source": [
    "# Loading data set\n",
    "claims=pd.read_csv(\"E:\\\\data science assigment\\\\video study\\\\Claims.csv\")\n",
    "claims.head()"
   ]
  },
  {
   "cell_type": "code",
   "execution_count": 4,
   "metadata": {},
   "outputs": [],
   "source": [
    "#### DATA CLEANSING ####\n",
    "\n",
    "## Region correction according to states\n",
    "claims.loc[(claims.State == \"Delhi\") | (claims.State == \"Uttar Pradesh\") |(claims.State == \"UP\") |\n",
    "        (claims.State == \"Haryana\") | (claims.State == \"HP\") | (claims.State == \"J&K\"), \"Region\"] = \"North\"\n",
    "\n",
    "claims.loc[(claims.State == \"Andhra Pradesh\") | (claims.State == \"Karnataka\") |\n",
    "        (claims.State == \"Kerala\") | (claims.State == \"MP\") | (claims.State == \"Tamilnadu\") | \n",
    "        (claims.State == \"Telengana\"), \"Region\"] = \"South\"\n",
    "\n",
    "claims.loc[(claims.State == \"Assam\") | (claims.State == \"Jharkhand\") |\n",
    "        (claims.State == \"Tripura\") | (claims.State == \"West Bengal\"), \"Region\"] = \"East\"\n",
    "\n",
    "claims.loc[(claims.State == \"Gujarat\"), \"Region\"] = \"West\"\n",
    "        \n",
    "claims.loc[(claims.State == \"Bihar\") | (claims.State == \"UP\") | (claims.State == \"Uttar Pradesh\"), \"Region\"] = \"North East\"\n",
    "\n",
    "claims.loc[(claims.State == \"Goa\") | (claims.State == \"Maharashtra\"), \"Region\"] = \"South West\"\n",
    "\n",
    "claims.loc[(claims.State == \"Odisha\"), \"Region\"] = \"South East\"\n",
    "        \n",
    "claims.loc[(claims.State == \"Rajasthan\"), \"Region\"] = \"North West\"     \n"
   ]
  },
  {
   "cell_type": "code",
   "execution_count": 5,
   "metadata": {},
   "outputs": [],
   "source": [
    "## Replacing UP with Uttar Pradesh \n",
    "claims.loc[(claims.State == \"UP\"), \"State\"] = \"Uttar Pradesh\""
   ]
  },
  {
   "cell_type": "code",
   "execution_count": 6,
   "metadata": {},
   "outputs": [],
   "source": [
    "## Replacing claim with Claim\n",
    "claims.loc[(claims.Purpose == \"claim\"), \"Purpose\"] = \"Claim\"\n"
   ]
  },
  {
   "cell_type": "code",
   "execution_count": 7,
   "metadata": {},
   "outputs": [],
   "source": [
    "## Separating hyderbad among two states. like Andhra Pradesh = Hyderbad, Telengana = Hyderabad 1\n",
    "claims.loc[(claims.State == \"Telengana\"), \"City\"] = \"Hyderabad 1\"\n"
   ]
  },
  {
   "cell_type": "code",
   "execution_count": 8,
   "metadata": {},
   "outputs": [],
   "source": [
    "# Deleting first column\n",
    "claims.drop([\"Unnamed: 0\"],inplace=True,axis=1) "
   ]
  },
  {
   "cell_type": "code",
   "execution_count": 9,
   "metadata": {},
   "outputs": [
    {
     "data": {
      "text/plain": [
       "['Region',\n",
       " 'State',\n",
       " 'Area',\n",
       " 'City',\n",
       " 'Consumer_profile',\n",
       " 'Product_category',\n",
       " 'Product_type',\n",
       " 'AC_1001_Issue',\n",
       " 'AC_1002_Issue',\n",
       " 'AC_1003_Issue',\n",
       " 'TV_2001_Issue',\n",
       " 'TV_2002_Issue',\n",
       " 'TV_2003_Issue',\n",
       " 'Claim_Value',\n",
       " 'Service_Centre',\n",
       " 'Product_Age',\n",
       " 'Purchased_from',\n",
       " 'Call_details',\n",
       " 'Purpose',\n",
       " 'Fraud']"
      ]
     },
     "execution_count": 9,
     "metadata": {},
     "output_type": "execute_result"
    }
   ],
   "source": [
    "#### EXPLORATORY DATA ANALYSIS ####\n",
    "list(claims.columns)"
   ]
  },
  {
   "cell_type": "code",
   "execution_count": 10,
   "metadata": {},
   "outputs": [
    {
     "data": {
      "text/plain": [
       "11917"
      ]
     },
     "execution_count": 10,
     "metadata": {},
     "output_type": "execute_result"
    }
   ],
   "source": [
    "claims.shape[False]"
   ]
  },
  {
   "cell_type": "code",
   "execution_count": 11,
   "metadata": {},
   "outputs": [
    {
     "data": {
      "text/plain": [
       "11559"
      ]
     },
     "execution_count": 11,
     "metadata": {},
     "output_type": "execute_result"
    }
   ],
   "source": [
    "claims.duplicated(subset=None, keep='first').sum()"
   ]
  },
  {
   "cell_type": "code",
   "execution_count": 12,
   "metadata": {},
   "outputs": [],
   "source": [
    "claims1=claims.drop_duplicates(keep=\"first\")"
   ]
  },
  {
   "cell_type": "code",
   "execution_count": 13,
   "metadata": {},
   "outputs": [
    {
     "data": {
      "text/plain": [
       "(358, 20)"
      ]
     },
     "execution_count": 13,
     "metadata": {},
     "output_type": "execute_result"
    }
   ],
   "source": [
    "claims1.shape"
   ]
  },
  {
   "cell_type": "code",
   "execution_count": 14,
   "metadata": {},
   "outputs": [
    {
     "data": {
      "text/plain": [
       "Region              0\n",
       "State               0\n",
       "Area                0\n",
       "City                0\n",
       "Consumer_profile    0\n",
       "Product_category    0\n",
       "Product_type        0\n",
       "AC_1001_Issue       0\n",
       "AC_1002_Issue       0\n",
       "AC_1003_Issue       0\n",
       "TV_2001_Issue       0\n",
       "TV_2002_Issue       0\n",
       "TV_2003_Issue       0\n",
       "Claim_Value         9\n",
       "Service_Centre      0\n",
       "Product_Age         0\n",
       "Purchased_from      0\n",
       "Call_details        0\n",
       "Purpose             0\n",
       "Fraud               0\n",
       "dtype: int64"
      ]
     },
     "execution_count": 14,
     "metadata": {},
     "output_type": "execute_result"
    }
   ],
   "source": [
    "## filling NA values\n",
    "claims1.isnull().sum()"
   ]
  },
  {
   "cell_type": "code",
   "execution_count": 15,
   "metadata": {},
   "outputs": [
    {
     "name": "stderr",
     "output_type": "stream",
     "text": [
      "C:\\Users\\rites\\Anaconda3\\lib\\site-packages\\pandas\\core\\generic.py:6130: SettingWithCopyWarning: \n",
      "A value is trying to be set on a copy of a slice from a DataFrame\n",
      "\n",
      "See the caveats in the documentation: http://pandas.pydata.org/pandas-docs/stable/indexing.html#indexing-view-versus-copy\n",
      "  self._update_inplace(new_data)\n"
     ]
    }
   ],
   "source": [
    "claims1[\"Claim_Value\"].fillna(7370,inplace=True)  ##median of claim value is 7370 "
   ]
  },
  {
   "cell_type": "code",
   "execution_count": 16,
   "metadata": {},
   "outputs": [
    {
     "data": {
      "text/plain": [
       "Region              0\n",
       "State               0\n",
       "Area                0\n",
       "City                0\n",
       "Consumer_profile    0\n",
       "Product_category    0\n",
       "Product_type        0\n",
       "AC_1001_Issue       0\n",
       "AC_1002_Issue       0\n",
       "AC_1003_Issue       0\n",
       "TV_2001_Issue       0\n",
       "TV_2002_Issue       0\n",
       "TV_2003_Issue       0\n",
       "Claim_Value         0\n",
       "Service_Centre      0\n",
       "Product_Age         0\n",
       "Purchased_from      0\n",
       "Call_details        0\n",
       "Purpose             0\n",
       "Fraud               0\n",
       "dtype: int64"
      ]
     },
     "execution_count": 16,
     "metadata": {},
     "output_type": "execute_result"
    }
   ],
   "source": [
    "claims1.isnull().sum()"
   ]
  },
  {
   "cell_type": "code",
   "execution_count": 17,
   "metadata": {},
   "outputs": [],
   "source": [
    "## creating dummies for categorical variables\n",
    "dummies = pd.get_dummies(claims1[['Region','State','Area','City','Consumer_profile','Product_category','Product_type',\n",
    "                                  'Purchased_from','Purpose']])\n"
   ]
  },
  {
   "cell_type": "code",
   "execution_count": 18,
   "metadata": {},
   "outputs": [
    {
     "name": "stderr",
     "output_type": "stream",
     "text": [
      "C:\\Users\\rites\\Anaconda3\\lib\\site-packages\\pandas\\core\\frame.py:3940: SettingWithCopyWarning: \n",
      "A value is trying to be set on a copy of a slice from a DataFrame\n",
      "\n",
      "See the caveats in the documentation: http://pandas.pydata.org/pandas-docs/stable/indexing.html#indexing-view-versus-copy\n",
      "  errors=errors)\n"
     ]
    }
   ],
   "source": [
    "# Dropping the columns for which we have created dummies\n",
    "claims1.drop(['Region','State','Area','City','Consumer_profile','Product_category','Product_type',\n",
    "             'Purchased_from','Purpose'],inplace=True,axis = 1)\n"
   ]
  },
  {
   "cell_type": "code",
   "execution_count": 19,
   "metadata": {},
   "outputs": [],
   "source": [
    "# adding the columns to the salary data frame \n",
    "claims2 = pd.concat([claims1,dummies],axis=1)\n"
   ]
  },
  {
   "cell_type": "code",
   "execution_count": null,
   "metadata": {},
   "outputs": [],
   "source": []
  },
  {
   "cell_type": "code",
   "execution_count": 20,
   "metadata": {},
   "outputs": [
    {
     "data": {
      "text/html": [
       "<div>\n",
       "<style scoped>\n",
       "    .dataframe tbody tr th:only-of-type {\n",
       "        vertical-align: middle;\n",
       "    }\n",
       "\n",
       "    .dataframe tbody tr th {\n",
       "        vertical-align: top;\n",
       "    }\n",
       "\n",
       "    .dataframe thead th {\n",
       "        text-align: right;\n",
       "    }\n",
       "</style>\n",
       "<table border=\"1\" class=\"dataframe\">\n",
       "  <thead>\n",
       "    <tr style=\"text-align: right;\">\n",
       "      <th></th>\n",
       "      <th>AC_1001_Issue</th>\n",
       "      <th>AC_1002_Issue</th>\n",
       "      <th>AC_1003_Issue</th>\n",
       "      <th>TV_2001_Issue</th>\n",
       "      <th>TV_2002_Issue</th>\n",
       "      <th>TV_2003_Issue</th>\n",
       "      <th>Claim_Value</th>\n",
       "      <th>Service_Centre</th>\n",
       "      <th>Product_Age</th>\n",
       "      <th>Call_details</th>\n",
       "      <th>...</th>\n",
       "      <th>Product_category_Entertainment</th>\n",
       "      <th>Product_category_Household</th>\n",
       "      <th>Product_type_AC</th>\n",
       "      <th>Product_type_TV</th>\n",
       "      <th>Purchased_from_Dealer</th>\n",
       "      <th>Purchased_from_Internet</th>\n",
       "      <th>Purchased_from_Manufacturer</th>\n",
       "      <th>Purpose_Claim</th>\n",
       "      <th>Purpose_Complaint</th>\n",
       "      <th>Purpose_Other</th>\n",
       "    </tr>\n",
       "  </thead>\n",
       "  <tbody>\n",
       "    <tr>\n",
       "      <th>0</th>\n",
       "      <td>0</td>\n",
       "      <td>0</td>\n",
       "      <td>0</td>\n",
       "      <td>1</td>\n",
       "      <td>2</td>\n",
       "      <td>0</td>\n",
       "      <td>15000.0</td>\n",
       "      <td>10</td>\n",
       "      <td>60</td>\n",
       "      <td>0.5</td>\n",
       "      <td>...</td>\n",
       "      <td>1</td>\n",
       "      <td>0</td>\n",
       "      <td>0</td>\n",
       "      <td>1</td>\n",
       "      <td>0</td>\n",
       "      <td>0</td>\n",
       "      <td>1</td>\n",
       "      <td>0</td>\n",
       "      <td>1</td>\n",
       "      <td>0</td>\n",
       "    </tr>\n",
       "    <tr>\n",
       "      <th>1</th>\n",
       "      <td>1</td>\n",
       "      <td>1</td>\n",
       "      <td>0</td>\n",
       "      <td>0</td>\n",
       "      <td>0</td>\n",
       "      <td>0</td>\n",
       "      <td>20000.0</td>\n",
       "      <td>12</td>\n",
       "      <td>10</td>\n",
       "      <td>1.0</td>\n",
       "      <td>...</td>\n",
       "      <td>0</td>\n",
       "      <td>1</td>\n",
       "      <td>1</td>\n",
       "      <td>0</td>\n",
       "      <td>1</td>\n",
       "      <td>0</td>\n",
       "      <td>0</td>\n",
       "      <td>0</td>\n",
       "      <td>1</td>\n",
       "      <td>0</td>\n",
       "    </tr>\n",
       "    <tr>\n",
       "      <th>2</th>\n",
       "      <td>0</td>\n",
       "      <td>1</td>\n",
       "      <td>2</td>\n",
       "      <td>0</td>\n",
       "      <td>0</td>\n",
       "      <td>0</td>\n",
       "      <td>18000.0</td>\n",
       "      <td>14</td>\n",
       "      <td>10</td>\n",
       "      <td>1.4</td>\n",
       "      <td>...</td>\n",
       "      <td>0</td>\n",
       "      <td>1</td>\n",
       "      <td>1</td>\n",
       "      <td>0</td>\n",
       "      <td>1</td>\n",
       "      <td>0</td>\n",
       "      <td>0</td>\n",
       "      <td>1</td>\n",
       "      <td>0</td>\n",
       "      <td>0</td>\n",
       "    </tr>\n",
       "  </tbody>\n",
       "</table>\n",
       "<p>3 rows × 82 columns</p>\n",
       "</div>"
      ],
      "text/plain": [
       "   AC_1001_Issue  AC_1002_Issue  AC_1003_Issue  TV_2001_Issue  TV_2002_Issue  \\\n",
       "0              0              0              0              1              2   \n",
       "1              1              1              0              0              0   \n",
       "2              0              1              2              0              0   \n",
       "\n",
       "   TV_2003_Issue  Claim_Value  Service_Centre  Product_Age  Call_details  ...  \\\n",
       "0              0      15000.0              10           60           0.5  ...   \n",
       "1              0      20000.0              12           10           1.0  ...   \n",
       "2              0      18000.0              14           10           1.4  ...   \n",
       "\n",
       "   Product_category_Entertainment  Product_category_Household  \\\n",
       "0                               1                           0   \n",
       "1                               0                           1   \n",
       "2                               0                           1   \n",
       "\n",
       "   Product_type_AC  Product_type_TV  Purchased_from_Dealer  \\\n",
       "0                0                1                      0   \n",
       "1                1                0                      1   \n",
       "2                1                0                      1   \n",
       "\n",
       "   Purchased_from_Internet  Purchased_from_Manufacturer  Purpose_Claim  \\\n",
       "0                        0                            1              0   \n",
       "1                        0                            0              0   \n",
       "2                        0                            0              1   \n",
       "\n",
       "   Purpose_Complaint  Purpose_Other  \n",
       "0                  1              0  \n",
       "1                  1              0  \n",
       "2                  0              0  \n",
       "\n",
       "[3 rows x 82 columns]"
      ]
     },
     "execution_count": 20,
     "metadata": {},
     "output_type": "execute_result"
    }
   ],
   "source": [
    "claims2.head(3)"
   ]
  },
  {
   "cell_type": "code",
   "execution_count": 21,
   "metadata": {},
   "outputs": [
    {
     "data": {
      "text/plain": [
       "(358, 82)"
      ]
     },
     "execution_count": 21,
     "metadata": {},
     "output_type": "execute_result"
    }
   ],
   "source": [
    "claims2.shape"
   ]
  },
  {
   "cell_type": "code",
   "execution_count": 22,
   "metadata": {},
   "outputs": [
    {
     "data": {
      "text/plain": [
       "0    323\n",
       "1     35\n",
       "Name: Fraud, dtype: int64"
      ]
     },
     "execution_count": 22,
     "metadata": {},
     "output_type": "execute_result"
    }
   ],
   "source": [
    "claims2['Fraud'].value_counts()"
   ]
  },
  {
   "cell_type": "code",
   "execution_count": 23,
   "metadata": {},
   "outputs": [],
   "source": [
    "# Separate majority and minority classes\n",
    "claims2_majority = claims2[claims2.Fraud==0]\n",
    "claims2_minority = claims2[claims2.Fraud==1]\n",
    " \n"
   ]
  },
  {
   "cell_type": "code",
   "execution_count": 24,
   "metadata": {},
   "outputs": [],
   "source": [
    "\t\n",
    "from sklearn.utils import resample"
   ]
  },
  {
   "cell_type": "code",
   "execution_count": 25,
   "metadata": {},
   "outputs": [],
   "source": [
    "# Upsample minority class\n",
    "claims2_minority_upsampled = resample(claims2_minority, \n",
    "                                 replace=True,     # sample with replacement\n",
    "                                 n_samples=323,    # to match majority class\n",
    "                                 random_state=123) # reproducible results\n",
    " \n"
   ]
  },
  {
   "cell_type": "code",
   "execution_count": 26,
   "metadata": {},
   "outputs": [
    {
     "ename": "IndentationError",
     "evalue": "unexpected indent (<ipython-input-26-3f3e82acb861>, line 3)",
     "output_type": "error",
     "traceback": [
      "\u001b[1;36m  File \u001b[1;32m\"<ipython-input-26-3f3e82acb861>\"\u001b[1;36m, line \u001b[1;32m3\u001b[0m\n\u001b[1;33m    replace=False,    # sample without replacement\u001b[0m\n\u001b[1;37m    ^\u001b[0m\n\u001b[1;31mIndentationError\u001b[0m\u001b[1;31m:\u001b[0m unexpected indent\n"
     ]
    }
   ],
   "source": [
    "# Downsample majority class\n",
    "#claims2_majority_downsampled = resample(claims2_majority, \n",
    "                                 replace=False,    # sample without replacement\n",
    "                                 n_samples=35,     # to match minority class\n",
    "                                 random_state=123) # reproducible results"
   ]
  },
  {
   "cell_type": "code",
   "execution_count": 27,
   "metadata": {},
   "outputs": [],
   "source": [
    "# Combine majority class with upsampled minority class\n",
    "claims2_upsampled = pd.concat([claims2_majority, claims2_minority_upsampled])\n",
    " \n"
   ]
  },
  {
   "cell_type": "code",
   "execution_count": 28,
   "metadata": {},
   "outputs": [],
   "source": [
    "# Combine minority class with downsampled majority class\n",
    "#claims2_downsampled = pd.concat([claims2_majority_downsampled, claims2_minority])\n",
    " \n"
   ]
  },
  {
   "cell_type": "code",
   "execution_count": 29,
   "metadata": {},
   "outputs": [
    {
     "data": {
      "text/plain": [
       "1    323\n",
       "0    323\n",
       "Name: Fraud, dtype: int64"
      ]
     },
     "execution_count": 29,
     "metadata": {},
     "output_type": "execute_result"
    }
   ],
   "source": [
    "# Display new class counts\n",
    "claims2_upsampled.Fraud.value_counts()\n"
   ]
  },
  {
   "cell_type": "code",
   "execution_count": 30,
   "metadata": {},
   "outputs": [],
   "source": [
    "# Display new class counts\n",
    "#claims2_downsampled.Fraud.value_counts()"
   ]
  },
  {
   "cell_type": "code",
   "execution_count": 31,
   "metadata": {},
   "outputs": [],
   "source": [
    "X = claims2_upsampled.iloc[:,[0,1,2,3,4,5,6,7,8,9,11,12,13,14,15,16,17,18,19,20,21,22,23,24,25,26,27,28,29,30,31,32,33,34,35,36,37,38,39,40,41,42,43,44,45,46,47,48,49,50,51,52,53,54,55,56,57,58,59,60,61,62,63,64,65,66,67,68,69,70,71,72,73,74,75,76,77,78,79,80,81]]\n",
    "y = claims2_upsampled.iloc[:,10]"
   ]
  },
  {
   "cell_type": "code",
   "execution_count": 32,
   "metadata": {},
   "outputs": [],
   "source": [
    "feature_cols =X"
   ]
  },
  {
   "cell_type": "code",
   "execution_count": null,
   "metadata": {},
   "outputs": [],
   "source": [
    "\n"
   ]
  },
  {
   "cell_type": "code",
   "execution_count": 33,
   "metadata": {},
   "outputs": [],
   "source": [
    "# Split dataset into training set and test set\n",
    "X_train, X_test, y_train, y_test = train_test_split(X, y, test_size=0.2, random_state=1) # 70% training and 30% test"
   ]
  },
  {
   "cell_type": "code",
   "execution_count": 34,
   "metadata": {},
   "outputs": [],
   "source": [
    "# Create Decision Tree classifer object\n",
    "clf = DecisionTreeClassifier()\n",
    "\n"
   ]
  },
  {
   "cell_type": "code",
   "execution_count": 35,
   "metadata": {},
   "outputs": [],
   "source": [
    "# Create Decision Tree classifer object\n",
    "#clf = DecisionTreeClassifier(criterion=\"entropy\", max_depth=3)\n",
    "\n"
   ]
  },
  {
   "cell_type": "code",
   "execution_count": 36,
   "metadata": {},
   "outputs": [],
   "source": [
    "# Train Decision Tree Classifer\n",
    "clf = clf.fit(X_train,y_train)\n",
    "\n"
   ]
  },
  {
   "cell_type": "code",
   "execution_count": 37,
   "metadata": {},
   "outputs": [],
   "source": [
    "#Predict the response for test dataset\n",
    "y_pred = clf.predict(X_test)"
   ]
  },
  {
   "cell_type": "code",
   "execution_count": 38,
   "metadata": {},
   "outputs": [
    {
     "name": "stdout",
     "output_type": "stream",
     "text": [
      "Accuracy: 0.9230769230769231\n"
     ]
    }
   ],
   "source": [
    "# Model Accuracy, how often is the classifier correct?\n",
    "print(\"Accuracy:\",metrics.accuracy_score(y_test, y_pred))"
   ]
  },
  {
   "cell_type": "code",
   "execution_count": 39,
   "metadata": {},
   "outputs": [],
   "source": [
    "y_pred1 = clf.predict(X_train)"
   ]
  },
  {
   "cell_type": "code",
   "execution_count": 40,
   "metadata": {},
   "outputs": [
    {
     "name": "stdout",
     "output_type": "stream",
     "text": [
      "Accuracy: 0.9786821705426356\n"
     ]
    }
   ],
   "source": [
    "print(\"Accuracy:\",metrics.accuracy_score(y_train,y_pred1))"
   ]
  },
  {
   "cell_type": "code",
   "execution_count": 41,
   "metadata": {},
   "outputs": [
    {
     "name": "stdout",
     "output_type": "stream",
     "text": [
      "Recall: 1.0\n"
     ]
    }
   ],
   "source": [
    "print ('Recall:', metrics.recall_score(y_test, y_pred))"
   ]
  },
  {
   "cell_type": "code",
   "execution_count": 42,
   "metadata": {},
   "outputs": [
    {
     "name": "stdout",
     "output_type": "stream",
     "text": [
      "Precision: 0.8809523809523809\n"
     ]
    }
   ],
   "source": [
    "print ('Precision:', metrics.precision_score(y_test,y_pred))\n",
    "                                    \n"
   ]
  },
  {
   "cell_type": "code",
   "execution_count": 43,
   "metadata": {},
   "outputs": [
    {
     "name": "stdout",
     "output_type": "stream",
     "text": [
      "\n",
      " clasification report:\n",
      "               precision    recall  f1-score   support\n",
      "\n",
      "           0       1.00      0.82      0.90        56\n",
      "           1       0.88      1.00      0.94        74\n",
      "\n",
      "    accuracy                           0.92       130\n",
      "   macro avg       0.94      0.91      0.92       130\n",
      "weighted avg       0.93      0.92      0.92       130\n",
      "\n"
     ]
    }
   ],
   "source": [
    "print ('\\n clasification report:\\n', metrics.classification_report(y_test,y_pred))\n"
   ]
  },
  {
   "cell_type": "code",
   "execution_count": 44,
   "metadata": {},
   "outputs": [
    {
     "name": "stdout",
     "output_type": "stream",
     "text": [
      "\n",
      " confussion matrix:\n",
      " [[46 10]\n",
      " [ 0 74]]\n"
     ]
    }
   ],
   "source": [
    "print ('\\n confussion matrix:\\n',metrics.confusion_matrix(y_test,y_pred))"
   ]
  },
  {
   "cell_type": "code",
   "execution_count": null,
   "metadata": {},
   "outputs": [],
   "source": [
    "\n"
   ]
  },
  {
   "cell_type": "code",
   "execution_count": 55,
   "metadata": {},
   "outputs": [
    {
     "ename": "ValueError",
     "evalue": "Length of feature_names, 358 does not match number of features, 81",
     "output_type": "error",
     "traceback": [
      "\u001b[1;31m---------------------------------------------------------------------------\u001b[0m",
      "\u001b[1;31mValueError\u001b[0m                                Traceback (most recent call last)",
      "\u001b[1;32m<ipython-input-55-4d772a31660f>\u001b[0m in \u001b[0;36m<module>\u001b[1;34m\u001b[0m\n\u001b[0;32m      2\u001b[0m export_graphviz(clf, out_file=dot_data,  \n\u001b[0;32m      3\u001b[0m                 \u001b[0mfilled\u001b[0m\u001b[1;33m=\u001b[0m\u001b[1;32mTrue\u001b[0m\u001b[1;33m,\u001b[0m \u001b[0mrounded\u001b[0m\u001b[1;33m=\u001b[0m\u001b[1;32mTrue\u001b[0m\u001b[1;33m,\u001b[0m\u001b[1;33m\u001b[0m\u001b[1;33m\u001b[0m\u001b[0m\n\u001b[1;32m----> 4\u001b[1;33m                 special_characters=True,feature_names = feature_cols,class_names=['0','1'])\n\u001b[0m\u001b[0;32m      5\u001b[0m \u001b[0mgraph\u001b[0m \u001b[1;33m=\u001b[0m \u001b[0mpydotplus\u001b[0m\u001b[1;33m.\u001b[0m\u001b[0mgraph_from_dot_data\u001b[0m\u001b[1;33m(\u001b[0m\u001b[0mdot_data\u001b[0m\u001b[1;33m.\u001b[0m\u001b[0mgetvalue\u001b[0m\u001b[1;33m(\u001b[0m\u001b[1;33m)\u001b[0m\u001b[1;33m)\u001b[0m\u001b[1;33m\u001b[0m\u001b[1;33m\u001b[0m\u001b[0m\n\u001b[0;32m      6\u001b[0m \u001b[0mgraph\u001b[0m\u001b[1;33m.\u001b[0m\u001b[0mwrite_png\u001b[0m\u001b[1;33m(\u001b[0m\u001b[1;34m'Fraud.png'\u001b[0m\u001b[1;33m)\u001b[0m\u001b[1;33m\u001b[0m\u001b[1;33m\u001b[0m\u001b[0m\n",
      "\u001b[1;32m~\\Anaconda3\\lib\\site-packages\\sklearn\\tree\\export.py\u001b[0m in \u001b[0;36mexport_graphviz\u001b[1;34m(decision_tree, out_file, max_depth, feature_names, class_names, label, filled, leaves_parallel, impurity, node_ids, proportion, rotate, rounded, special_characters, precision)\u001b[0m\n\u001b[0;32m    773\u001b[0m             \u001b[0mrounded\u001b[0m\u001b[1;33m=\u001b[0m\u001b[0mrounded\u001b[0m\u001b[1;33m,\u001b[0m \u001b[0mspecial_characters\u001b[0m\u001b[1;33m=\u001b[0m\u001b[0mspecial_characters\u001b[0m\u001b[1;33m,\u001b[0m\u001b[1;33m\u001b[0m\u001b[1;33m\u001b[0m\u001b[0m\n\u001b[0;32m    774\u001b[0m             precision=precision)\n\u001b[1;32m--> 775\u001b[1;33m         \u001b[0mexporter\u001b[0m\u001b[1;33m.\u001b[0m\u001b[0mexport\u001b[0m\u001b[1;33m(\u001b[0m\u001b[0mdecision_tree\u001b[0m\u001b[1;33m)\u001b[0m\u001b[1;33m\u001b[0m\u001b[1;33m\u001b[0m\u001b[0m\n\u001b[0m\u001b[0;32m    776\u001b[0m \u001b[1;33m\u001b[0m\u001b[0m\n\u001b[0;32m    777\u001b[0m         \u001b[1;32mif\u001b[0m \u001b[0mreturn_string\u001b[0m\u001b[1;33m:\u001b[0m\u001b[1;33m\u001b[0m\u001b[1;33m\u001b[0m\u001b[0m\n",
      "\u001b[1;32m~\\Anaconda3\\lib\\site-packages\\sklearn\\tree\\export.py\u001b[0m in \u001b[0;36mexport\u001b[1;34m(self, decision_tree)\u001b[0m\n\u001b[0;32m    399\u001b[0m                                  \u001b[1;34m\"does not match number of features, %d\"\u001b[0m\u001b[1;33m\u001b[0m\u001b[1;33m\u001b[0m\u001b[0m\n\u001b[0;32m    400\u001b[0m                                  % (len(self.feature_names),\n\u001b[1;32m--> 401\u001b[1;33m                                     decision_tree.n_features_))\n\u001b[0m\u001b[0;32m    402\u001b[0m         \u001b[1;31m# each part writes to out_file\u001b[0m\u001b[1;33m\u001b[0m\u001b[1;33m\u001b[0m\u001b[1;33m\u001b[0m\u001b[0m\n\u001b[0;32m    403\u001b[0m         \u001b[0mself\u001b[0m\u001b[1;33m.\u001b[0m\u001b[0mhead\u001b[0m\u001b[1;33m(\u001b[0m\u001b[1;33m)\u001b[0m\u001b[1;33m\u001b[0m\u001b[1;33m\u001b[0m\u001b[0m\n",
      "\u001b[1;31mValueError\u001b[0m: Length of feature_names, 358 does not match number of features, 81"
     ]
    }
   ],
   "source": []
  },
  {
   "cell_type": "code",
   "execution_count": null,
   "metadata": {},
   "outputs": [],
   "source": []
  }
 ],
 "metadata": {
  "kernelspec": {
   "display_name": "Python 3",
   "language": "python",
   "name": "python3"
  },
  "language_info": {
   "codemirror_mode": {
    "name": "ipython",
    "version": 3
   },
   "file_extension": ".py",
   "mimetype": "text/x-python",
   "name": "python",
   "nbconvert_exporter": "python",
   "pygments_lexer": "ipython3",
   "version": "3.7.3"
  }
 },
 "nbformat": 4,
 "nbformat_minor": 2
}
